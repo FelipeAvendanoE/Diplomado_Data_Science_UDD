{
  "nbformat": 4,
  "nbformat_minor": 0,
  "metadata": {
    "colab": {
      "provenance": [],
      "include_colab_link": true
    },
    "kernelspec": {
      "name": "python3",
      "display_name": "Python 3"
    },
    "language_info": {
      "name": "python"
    }
  },
  "cells": [
    {
      "cell_type": "markdown",
      "metadata": {
        "id": "view-in-github",
        "colab_type": "text"
      },
      "source": [
        "<a href=\"https://colab.research.google.com/github/FelipeAvendanoE/Diplomado_Data_Science_UDD/blob/main/4.Capstone_Lepac.ipynb\" target=\"_parent\"><img src=\"https://colab.research.google.com/assets/colab-badge.svg\" alt=\"Open In Colab\"/></a>"
      ]
    },
    {
      "cell_type": "markdown",
      "source": [
        "# **Inferencia Estadística**\n",
        "\n",
        "# AE14 - CAPSTONE - Le Pac"
      ],
      "metadata": {
        "id": "_XyKRBiM5sTr"
      }
    },
    {
      "cell_type": "markdown",
      "source": [
        "## <font color='blue'>**Contexto**</font>\n",
        "\n",
        "**¿Cómo pasas de ser el pisco más querido al más criticado?**. Esa pregunta se repitió más de una vez en Capel. Los reconocimientos, premios internacionales y números de venta en el extranjero no coincidían con las constantes críticas y malos comentarios que la marca de pisco acumuló durante años.\n",
        "\n",
        "Fue entonces que desde la pisquera se propusieron darle una vuelta al desprestigio que cargaba sobre sus espaldas y encontrar una solución. Un agencia especializada determinó que lo mejor era hacer un experimento que revelara si los consumidores consideraban realmente que el pisco era malo o si todo era parte de un prejuicio social que se había arraigado con el tiempo.\n",
        "\n",
        "Decidieron entonces dar un giro en 180°. Crearon una marca con las letras de Capel, pero al revés: **Le Pac**. En \"nuevo pisco\" tendría una nueva imagen, nuevos colores, un nuevo diseño, una nueva botella y sus propias redes. Nada que pudiera relacionarse con la marca a excepción de una cosa: **el brebaje era exactamente el mismo de siempre**.\n",
        "\n",
        "Lanzaron el pisco y ofrecieron muestras gratis a cambio de su opinión. En las primeras 24 horas había más de 800 solicitudes en la página web. Entonces las críticas positivas se empezaron a multiplicar. “Tiene buena textura\",  \"Tiene buen color\", \"Súper rico\",  \"Me dejó cero caña”, etc. Esos fueron algunos de los comentarios que recopilaron y que mostraron en el video de la campaña, donde revelan todos los detalles del experimento.\n",
        "\n",
        "[Le Pac: Un experimento de Pisco Capel.](https://www.youtube.com/watch?v=P4iFsx0l7uY)\n",
        "\n",
        "A partir de esta experiencia, se le solicita recrear un experimento similar en el que deberá crear un set experimental, aproximar sus datos a algún tipo de distribución, probar intervalos de confianza, realizar test de hipótesis y concluir cómo, con sus resultados, podría apoyar la toma de decisiones en Capel.\n",
        "\n",
        "__Recomendaciones__\n",
        "\n",
        "\n",
        "- Aplique la mayor cantidad de conocimientos adquiridos en el presente módulo que estime conveniente.\n",
        "- Desarrolle las pruebas de hipótesis con la secuencia de pasos entregada.\n",
        "- Utilice las mayor cantidad de visualizaciones posibles.\n",
        "- Dado que estamos creando desde cero un escenario de trabajo, realice y especifique todos los supuestos que hagan falta."
      ],
      "metadata": {
        "id": "90__kBnC5_gN"
      }
    },
    {
      "cell_type": "markdown",
      "source": [
        "## <font color='green'>**Actividad 1**</font>\n",
        "### Creando los datasets y ajustando sus distribuciones.\n",
        "\n",
        "Crear 3 datasets con respuestas de clientes a una encuesta de satisfacción de producto. Las encuestas tienen una escala de 1 a 7 (discreta), donde nota 1 es muy baja satisfacción y la nota 7 es muy alta satisfacción con el producto.\n",
        "Los datasets son los siguientes:\n",
        "\n",
        "1. **Capel**: crear un conjunto con 800 encuestas de satisfacción, que representan la historia del último trimestre de Capel. La satisfacción en promedio fue de **4.50** puntos y tuvo una distribición similar a la de la siguiente figura para que la use de referencia.\n",
        "\n",
        "<img src='https://drive.google.com/uc?export=view&id=1lXuvNG6KX4kWeCFnhO2hStObaaAXXB4o' width=\"400\" align=\"center\" style=\"margin-right: 20px\">\n",
        "<br>\n",
        "\n",
        "\n",
        "2. **Competencia**: crear un dataset con 500 encuestas de satisfacción, que representan la historia del último trimestre de la principal marca de la competencia. La satisfacción en promedio fue de **6.10** puntos y tuvo una distribición similar a la que se muestra en la siguiente figura, la que puede usar como referencia.\n",
        "\n",
        "<img src='https://drive.google.com/uc?export=view&id=1WBVhJ4K3p_BGKXvDn3ECGXUcOVdz7eTU' width=\"400\" align=\"center\" style=\"margin-right: 20px\">\n",
        "<br>\n",
        "\n",
        "3. **Le Pac**: crear un dataset con 320 encuestas de satisfacción, que representan la satisfacción de clientes de este nuevo producto, estas encuestas fueron realizadas durante 1 mes. La satisfacción en promedio fue de **6.15** puntos y tuvo una distribición similar a la de la siguiente figura para que la use de referencia.\n",
        "\n",
        "<img src='https://drive.google.com/uc?export=view&id=1WuVRmYEQ9unCcYb076uV9dDEwr1EVmgp' width=\"400\" align=\"center\" style=\"margin-right: 20px\">\n",
        "<br>\n"
      ],
      "metadata": {
        "id": "zckW-Z74DbDM"
      }
    },
    {
      "cell_type": "code",
      "source": [
        "import warnings\n",
        "warnings.simplefilter(action='ignore', category=FutureWarning)\n",
        "import pandas as pd\n",
        "import numpy as np\n",
        "import seaborn as sns\n",
        "import matplotlib.pyplot as plt\n",
        "from scipy import stats\n",
        "import math"
      ],
      "metadata": {
        "id": "cBTP9iPirJXL"
      },
      "execution_count": 1,
      "outputs": []
    },
    {
      "cell_type": "code",
      "source": [
        "#Buscamos generar un dataset cuyo promedio una vez llevado a numeros enteros sea de 4.5\n",
        "capel = stats.truncnorm.rvs(loc = 4.75, scale = 2, size=800, a = -1.8, b = 1.2, random_state = 500)\n",
        "sns.histplot(capel, kde = True)"
      ],
      "metadata": {
        "id": "KbOrmxIdAnXk",
        "colab": {
          "base_uri": "https://localhost:8080/",
          "height": 447
        },
        "outputId": "2ce191e9-ab29-40d1-814a-092f8e7f95bb"
      },
      "execution_count": 2,
      "outputs": [
        {
          "output_type": "execute_result",
          "data": {
            "text/plain": [
              "<Axes: ylabel='Count'>"
            ]
          },
          "metadata": {},
          "execution_count": 2
        },
        {
          "output_type": "display_data",
          "data": {
            "text/plain": [
              "<Figure size 640x480 with 1 Axes>"
            ],
            "image/png": "[encoded data removed]"
          },
          "metadata": {}
        }
      ]
    },
    {
      "cell_type": "code",
      "source": [
        "capel.round().mean()"
      ],
      "metadata": {
        "colab": {
          "base_uri": "https://localhost:8080/"
        },
        "id": "idM7oCAWUDyX",
        "outputId": "6f270d38-bd7f-4a58-ea16-03a301673a63"
      },
      "execution_count": 3,
      "outputs": [
        {
          "output_type": "execute_result",
          "data": {
            "text/plain": [
              "4.49875"
            ]
          },
          "metadata": {},
          "execution_count": 3
        }
      ]
    },
    {
      "cell_type": "code",
      "source": [
        "sns.histplot(capel.round(), discrete = True)"
      ],
      "metadata": {
        "id": "xC9oRhyJA5tL",
        "outputId": "adc35843-0455-492e-c672-ee8cb9fd244f",
        "colab": {
          "base_uri": "https://localhost:8080/",
          "height": 449
        }
      },
      "execution_count": 4,
      "outputs": [
        {
          "output_type": "execute_result",
          "data": {
            "text/plain": [
              "<Axes: ylabel='Count'>"
            ]
          },
          "metadata": {},
          "execution_count": 4
        },
        {
          "output_type": "display_data",
          "data": {
            "text/plain": [
              "<Figure size 640x480 with 1 Axes>"
            ],
            "image/png": "[encoded data removed]"
          },
          "metadata": {}
        }
      ]
    },
    {
      "cell_type": "code",
      "source": [
        "#Buscamos generar un dataset cuyo promedio una vez llevado a numeros enteros sea de 6.1\n",
        "competencia = stats.truncnorm.rvs(loc = 7.2, scale = 1.5, size=500, a = -3, b = 0, random_state = 500)\n",
        "sns.histplot(competencia, kde = True)"
      ],
      "metadata": {
        "colab": {
          "base_uri": "https://localhost:8080/",
          "height": 447
        },
        "id": "6WmMerpZF29h",
        "outputId": "df39267d-e612-4422-aabf-010521a3dac4"
      },
      "execution_count": 5,
      "outputs": [
        {
          "output_type": "execute_result",
          "data": {
            "text/plain": [
              "<Axes: ylabel='Count'>"
            ]
          },
          "metadata": {},
          "execution_count": 5
        },
        {
          "output_type": "display_data",
          "data": {
            "text/plain": [
              "<Figure size 640x480 with 1 Axes>"
            ],
            "image/png": "[encoded data removed]"
          },
          "metadata": {}
        }
      ]
    },
    {
      "cell_type": "code",
      "source": [
        "competencia.round().mean()"
      ],
      "metadata": {
        "colab": {
          "base_uri": "https://localhost:8080/"
        },
        "id": "suaCxmcEUZT7",
        "outputId": "56b860c0-07b9-4bdb-8408-6f3414882e56"
      },
      "execution_count": 6,
      "outputs": [
        {
          "output_type": "execute_result",
          "data": {
            "text/plain": [
              "6.062"
            ]
          },
          "metadata": {},
          "execution_count": 6
        }
      ]
    },
    {
      "cell_type": "code",
      "source": [
        "sns.histplot(competencia.round(), discrete = True)"
      ],
      "metadata": {
        "colab": {
          "base_uri": "https://localhost:8080/",
          "height": 447
        },
        "id": "4AZmTRcJHz9L",
        "outputId": "900582e1-7493-408d-b8d6-e203dda0a26a"
      },
      "execution_count": 7,
      "outputs": [
        {
          "output_type": "execute_result",
          "data": {
            "text/plain": [
              "<Axes: ylabel='Count'>"
            ]
          },
          "metadata": {},
          "execution_count": 7
        },
        {
          "output_type": "display_data",
          "data": {
            "text/plain": [
              "<Figure size 640x480 with 1 Axes>"
            ],
            "image/png": "[encoded data removed]"
          },
          "metadata": {}
        }
      ]
    },
    {
      "cell_type": "code",
      "source": [
        "#Buscamos generar un dataset cuyo promedio una vez llevado a numeros enteros sea de 6.15\n",
        "lepac = stats.truncnorm.rvs(loc = 6.9, scale = 1.4, size=320, a = -2.1, b = 0.3, random_state = 500)\n",
        "sns.histplot(lepac, kde = True)"
      ],
      "metadata": {
        "colab": {
          "base_uri": "https://localhost:8080/",
          "height": 447
        },
        "id": "OqtYLFJEF4jd",
        "outputId": "90cfed86-4de5-40f9-86d3-197fecd63154"
      },
      "execution_count": 8,
      "outputs": [
        {
          "output_type": "execute_result",
          "data": {
            "text/plain": [
              "<Axes: ylabel='Count'>"
            ]
          },
          "metadata": {},
          "execution_count": 8
        },
        {
          "output_type": "display_data",
          "data": {
            "text/plain": [
              "<Figure size 640x480 with 1 Axes>"
            ],
            "image/png": "[encoded data removed]"
          },
          "metadata": {}
        }
      ]
    },
    {
      "cell_type": "code",
      "source": [
        "lepac.round().mean()"
      ],
      "metadata": {
        "colab": {
          "base_uri": "https://localhost:8080/"
        },
        "id": "nPZ5a2U3Uhth",
        "outputId": "e841f8df-a412-4520-a6aa-910da7f1e3f4"
      },
      "execution_count": 9,
      "outputs": [
        {
          "output_type": "execute_result",
          "data": {
            "text/plain": [
              "6.159375"
            ]
          },
          "metadata": {},
          "execution_count": 9
        }
      ]
    },
    {
      "cell_type": "code",
      "source": [
        "sns.histplot(lepac.round(), discrete = True)"
      ],
      "metadata": {
        "colab": {
          "base_uri": "https://localhost:8080/",
          "height": 447
        },
        "id": "Fg3_HYbsH24m",
        "outputId": "95e77b07-7792-4c24-971d-57f94ceb074d"
      },
      "execution_count": 10,
      "outputs": [
        {
          "output_type": "execute_result",
          "data": {
            "text/plain": [
              "<Axes: ylabel='Count'>"
            ]
          },
          "metadata": {},
          "execution_count": 10
        },
        {
          "output_type": "display_data",
          "data": {
            "text/plain": [
              "<Figure size 640x480 with 1 Axes>"
            ],
            "image/png": "[encoded data removed]"
          },
          "metadata": {}
        }
      ]
    },
    {
      "cell_type": "code",
      "source": [
        "#Llevamos los datasets generados a numeros enteros.\n",
        "capel = capel.round()\n",
        "competencia = competencia.round()\n",
        "lepac = lepac.round()"
      ],
      "metadata": {
        "id": "N90L4-MIIB89"
      },
      "execution_count": 11,
      "outputs": []
    },
    {
      "cell_type": "markdown",
      "source": [
        "## <font color='green'>**Actividad 2**</font>\n",
        "### Estudiando los datasets\n",
        "\n",
        "Para cada uno de los datasets creados se pide:\n",
        "\n",
        "1. Graficar el correspondiente histograma y su función de masa de probabilidad y/o distribución de probabilidad según corresponda.\n",
        "\n",
        "2. Calcular la media y desviación estandar de la muestra.\n",
        "\n",
        "3. Calcular el porcentaje de notas 6 y 7. Este indicador en Marketing es conocido como el **Top 2 Box Score**, que corresponde a una proproción de las personas que han manifestado satisfacción por el producto/servicio.\n",
        "\n",
        "4. Calcular el intervalo de confianza para la media y proporción Top2Box. Ambas con un nivel de significancia alpha del 0.05.\n",
        "\n",
        "\n"
      ],
      "metadata": {
        "id": "n12LjC1UJE6T"
      }
    },
    {
      "cell_type": "code",
      "source": [
        "# Tu código aquí ...\n",
        "#1\n",
        "\n",
        "sns.histplot(capel, label = 'Capel', stat = 'probability', discrete = True)\n",
        "\n",
        "plt.legend()\n",
        "\n"
      ],
      "metadata": {
        "id": "YzzdpV6Z2Gpw",
        "colab": {
          "base_uri": "https://localhost:8080/",
          "height": 449
        },
        "outputId": "65247cbd-6798-4a12-8c1f-b22e95864fdf"
      },
      "execution_count": 12,
      "outputs": [
        {
          "output_type": "execute_result",
          "data": {
            "text/plain": [
              "<matplotlib.legend.Legend at 0x78de503338e0>"
            ]
          },
          "metadata": {},
          "execution_count": 12
        },
        {
          "output_type": "display_data",
          "data": {
            "text/plain": [
              "<Figure size 640x480 with 1 Axes>"
            ],
            "image/png": "[encoded data removed]"
          },
          "metadata": {}
        }
      ]
    },
    {
      "cell_type": "code",
      "source": [
        "sns.histplot(competencia, label = 'Competencia', stat = 'probability', discrete = True)\n",
        "plt.legend()\n"
      ],
      "metadata": {
        "colab": {
          "base_uri": "https://localhost:8080/",
          "height": 447
        },
        "id": "jng0PXRUKcu-",
        "outputId": "86eaae51-f6e4-4260-e53e-c3303ca36649"
      },
      "execution_count": 13,
      "outputs": [
        {
          "output_type": "execute_result",
          "data": {
            "text/plain": [
              "<matplotlib.legend.Legend at 0x78de5028f0a0>"
            ]
          },
          "metadata": {},
          "execution_count": 13
        },
        {
          "output_type": "display_data",
          "data": {
            "text/plain": [
              "<Figure size 640x480 with 1 Axes>"
            ],
            "image/png": "[encoded data removed]"
          },
          "metadata": {}
        }
      ]
    },
    {
      "cell_type": "code",
      "source": [
        "sns.histplot(lepac, label = 'Lepac', stat = 'probability', discrete = True)\n",
        "plt.legend()\n"
      ],
      "metadata": {
        "colab": {
          "base_uri": "https://localhost:8080/",
          "height": 447
        },
        "id": "AM6ImCdxKfMm",
        "outputId": "c22daec8-68bc-40f2-9a47-84dfdfde3a9c"
      },
      "execution_count": 14,
      "outputs": [
        {
          "output_type": "execute_result",
          "data": {
            "text/plain": [
              "<matplotlib.legend.Legend at 0x78de500e70d0>"
            ]
          },
          "metadata": {},
          "execution_count": 14
        },
        {
          "output_type": "display_data",
          "data": {
            "text/plain": [
              "<Figure size 640x480 with 1 Axes>"
            ],
            "image/png": "[encoded data removed]"
          },
          "metadata": {}
        }
      ]
    },
    {
      "cell_type": "code",
      "source": [
        "#2 media y desviacion estandar\n",
        "\n",
        "print(f'La media de Capel es: {capel.mean():.2f}')\n",
        "print(f'La desviacion estandar de Capel es: {capel.std():.2f}')\n",
        "print()\n",
        "\n",
        "print(f'La media de la competencia es: {competencia.mean():.2f}')\n",
        "print(f'La desviacion estandar de la competencia es: {competencia.std():.2f}')\n",
        "print()\n",
        "\n",
        "print(f'La media de Lepac es: {lepac.mean():.2f}')\n",
        "print(f'La desviacion estandar de lepac es: {lepac.std():.2f}')\n"
      ],
      "metadata": {
        "colab": {
          "base_uri": "https://localhost:8080/"
        },
        "id": "B4t9NK_vOMpv",
        "outputId": "708f626c-0372-453c-ce40-67593500fc3f"
      },
      "execution_count": 15,
      "outputs": [
        {
          "output_type": "stream",
          "name": "stdout",
          "text": [
            "La media de Capel es: 4.50\n",
            "La desviacion estandar de Capel es: 1.46\n",
            "\n",
            "La media de la competencia es: 6.06\n",
            "La desviacion estandar de la competencia es: 0.89\n",
            "\n",
            "La media de Lepac es: 6.16\n",
            "La desviacion estandar de lepac es: 0.83\n"
          ]
        }
      ]
    },
    {
      "cell_type": "code",
      "source": [
        "print(f'La media de Capel es: {capel.mean():.2f}')\n",
        "print(f'La desviacion estandar de Capel es: {capel.std():.2f}')"
      ],
      "metadata": {
        "id": "M1Oj-hM8Sfwh",
        "colab": {
          "base_uri": "https://localhost:8080/"
        },
        "outputId": "08614d85-f31a-44e5-af17-8463ac92c586"
      },
      "execution_count": 16,
      "outputs": [
        {
          "output_type": "stream",
          "name": "stdout",
          "text": [
            "La media de Capel es: 4.50\n",
            "La desviacion estandar de Capel es: 1.46\n"
          ]
        }
      ]
    },
    {
      "cell_type": "code",
      "source": [
        "#3 Calcular el porcentaje de notas 6 y 7. Este indicador en Marketing es conocido como el Top 2 Box Score, que corresponde a una proproción de las personas que han manifestado satisfacción por el producto/servicio.\n",
        "\n",
        "df_capel = pd.DataFrame(capel, columns = ['Votos'])\n",
        "Top_Capel =  (df_capel >= 6).sum() / df_capel.count()\n",
        "print(f'El Top 2 Box Score de Capel es de {float(Top_Capel[0]):.2%}')\n",
        "\n",
        "df_competencia = pd.DataFrame(competencia, columns = ['Votos'])\n",
        "Top_Competencia =  (df_competencia >= 6).sum() / df_competencia.count()\n",
        "print(f'El Top 2 Box Score de la competencia es de {float(Top_Competencia[0]):.2%}')\n",
        "\n",
        "df_lepac = pd.DataFrame(lepac, columns = ['Votos'])\n",
        "Top_lepac =  (df_lepac >= 6).sum() / df_lepac.count()\n",
        "print(f'El Top 2 Box Score de Lepac es de {float(Top_lepac[0]):.2%}')"
      ],
      "metadata": {
        "id": "4FDXI5xxOQqv",
        "colab": {
          "base_uri": "https://localhost:8080/"
        },
        "outputId": "576d6fbd-9931-4b0e-bb35-cbc2feb60dd6"
      },
      "execution_count": 17,
      "outputs": [
        {
          "output_type": "stream",
          "name": "stdout",
          "text": [
            "El Top 2 Box Score de Capel es de 27.62%\n",
            "El Top 2 Box Score de la competencia es de 75.80%\n",
            "El Top 2 Box Score de Lepac es de 78.75%\n"
          ]
        }
      ]
    },
    {
      "cell_type": "code",
      "source": [
        "#4 Calcular el intervalo de confianza para la media y proporción Top2Box. Ambas con un nivel de significancia alpha del 0.05.\n",
        "\n",
        "IC_capel = stats.norm.interval(confidence = 0.95, loc = df_capel.mean(), scale = (df_capel.std() / df_capel.count()**(1/2) ))\n",
        "\n",
        "print(f'El intervalo de confianza para la media de Capel es de: {IC_capel[0][0]:.4f} hasta {IC_capel[1][0]:.4f}')"
      ],
      "metadata": {
        "id": "MXJYibJuOVJE",
        "colab": {
          "base_uri": "https://localhost:8080/"
        },
        "outputId": "352f053c-3f8b-4ca8-f90a-c11fd045b147"
      },
      "execution_count": 30,
      "outputs": [
        {
          "output_type": "stream",
          "name": "stdout",
          "text": [
            "El intervalo de confianza para la media de Capel es de: 4.3979 hasta 4.5996\n"
          ]
        }
      ]
    },
    {
      "cell_type": "code",
      "source": [
        "# Forma alternativa de calcular el IC\n",
        "IC1 = df_capel.mean() - 1.96 * df_capel.std() / df_capel.count()**(1/2)\n",
        "IC2 = df_capel.mean() + 1.96 * df_capel.std() / df_capel.count()**(1/2)\n",
        "\n",
        "print(f'El intervalo de confianza para la media de Capel es de: {IC1[0]:.4f} hasta {IC2[0]:.4f}')"
      ],
      "metadata": {
        "colab": {
          "base_uri": "https://localhost:8080/"
        },
        "id": "LNTnbc7yxbnJ",
        "outputId": "0a671af2-cb82-480f-e5fc-2c0e42df5fe6"
      },
      "execution_count": 33,
      "outputs": [
        {
          "output_type": "stream",
          "name": "stdout",
          "text": [
            "El intervalo de confianza para la media de Capel es de: 4.3978 hasta 4.5997\n"
          ]
        }
      ]
    },
    {
      "cell_type": "code",
      "source": [
        "p = Top_Capel[0]\n",
        "n = df_capel.count()\n",
        "\n",
        "IC_capel_top = stats.norm.interval(confidence = 0.95, loc = p , scale = math.sqrt(p * (1-p) / n) )\n",
        "\n",
        "print(f'El intervalo de confianza para el Top Two Box Score de Capel es de: {IC_capel_top[0]:.4f} hasta {IC_capel_top[1]:.4f}')"
      ],
      "metadata": {
        "colab": {
          "base_uri": "https://localhost:8080/"
        },
        "id": "GSRT_EAQ9TuF",
        "outputId": "1f10db6f-2a72-463e-9e20-b4e225fd5a85"
      },
      "execution_count": 36,
      "outputs": [
        {
          "output_type": "stream",
          "name": "stdout",
          "text": [
            "El intervalo de confianza para el Top Two Box Score de Capel es de: 0.2453 hasta 0.3072\n"
          ]
        }
      ]
    },
    {
      "cell_type": "code",
      "source": [
        "# Forma alternativa de calcular el IC\n",
        "p = Top_Capel[0]\n",
        "n = df_capel.count()\n",
        "Z = stats.norm.ppf(1-0.05/2)\n",
        "\n",
        "IC_top1 = Top_Capel[0] - Z * math.sqrt(p * (1-p) / n)\n",
        "IC_top2 = Top_Capel[0] + Z * math.sqrt(p * (1-p) / n)\n",
        "\n",
        "print(f'El intervalo de confianza para el Top Two Box Score de Capel es de: {IC_top1:.4f} hasta {IC_top2:.4f}')"
      ],
      "metadata": {
        "colab": {
          "base_uri": "https://localhost:8080/"
        },
        "id": "r_8sK3Jm-SQk",
        "outputId": "ddd4fd34-d746-46fd-9a65-4851dcbbde09"
      },
      "execution_count": 35,
      "outputs": [
        {
          "output_type": "stream",
          "name": "stdout",
          "text": [
            "El intervalo de confianza para el Top Two Box Score de Capel es de: 0.2453 hasta 0.3072\n"
          ]
        }
      ]
    },
    {
      "cell_type": "code",
      "source": [
        "IC_competencia = stats.norm.interval(confidence = 0.95, loc = df_competencia.mean(), scale = (df_competencia.std() / df_competencia.count()**(1/2) ))\n",
        "\n",
        "print(f'El intervalo de confianza para la media de la competencia es de: {IC_competencia[0][0]:.4f} hasta {IC_competencia[1][0]:.4f}')\n",
        "print()\n",
        "\n",
        "p = Top_Competencia[0]\n",
        "n = df_competencia.count()\n",
        "\n",
        "IC_competencia_top = stats.norm.interval(confidence = 0.95, loc = p , scale = math.sqrt(p * (1-p) / n) )\n",
        "\n",
        "print(f'El intervalo de confianza para el Top Two Box Score de la competencia es de: {IC_competencia_top[0]:.4f} hasta {IC_competencia_top[1]:.4f}')"
      ],
      "metadata": {
        "colab": {
          "base_uri": "https://localhost:8080/"
        },
        "id": "Zo49Vfp3FCdd",
        "outputId": "4679f4f6-502f-4b93-bf4d-b2bc9d5a998d"
      },
      "execution_count": 40,
      "outputs": [
        {
          "output_type": "stream",
          "name": "stdout",
          "text": [
            "El intervalo de confianza para la media de la competencia es de: 5.9836 hasta 6.1404\n",
            "\n",
            "El intervalo de confianza para el Top Two Box Score de la competencia es de: 0.7205 hasta 0.7955\n"
          ]
        }
      ]
    },
    {
      "cell_type": "code",
      "source": [
        "IC_Lepac = stats.norm.interval(confidence = 0.95, loc = df_lepac.mean(), scale = (df_lepac.std() / df_lepac.count()**(1/2) ))\n",
        "\n",
        "print(f'El intervalo de confianza para la media de Lepac es de: {IC_Lepac[0][0]:.4f} hasta {IC_Lepac[1][0]:.4f}')\n",
        "print()\n",
        "\n",
        "p = Top_lepac[0]\n",
        "n = df_lepac.count()\n",
        "\n",
        "IC_lepac_top = stats.norm.interval(confidence = 0.95, loc = p , scale = math.sqrt(p * (1-p) / n) )\n",
        "\n",
        "print(f'El intervalo de confianza para el Top Two Box Score de Lepac es de: {IC_lepac_top[0]:.4f} hasta {IC_lepac_top[1]:.4f}')\n",
        "print()"
      ],
      "metadata": {
        "colab": {
          "base_uri": "https://localhost:8080/"
        },
        "id": "PIIBTnfvFTLn",
        "outputId": "9c10cecf-a6a7-4d77-8ef3-a16bcf6f75ab"
      },
      "execution_count": 41,
      "outputs": [
        {
          "output_type": "stream",
          "name": "stdout",
          "text": [
            "El intervalo de confianza para la media de Lepac es de: 6.0678 hasta 6.2510\n",
            "\n",
            "El intervalo de confianza para el Top Two Box Score de Lepac es de: 0.7427 hasta 0.8323\n",
            "\n"
          ]
        }
      ]
    },
    {
      "cell_type": "markdown",
      "source": [
        "## <font color='green'>**Actividad 3**</font>\n",
        "### Creando nuestro test de hipótesis\n",
        "\n",
        "Desarrollar un test de hipótesis de 1 muestra para al menos 1 de los 3 datasets. Aquí Ud. puede formular la hipótesis a probar. Por ejemplo, puede ser contra un target definido por la industria o retail.\n",
        "\n"
      ],
      "metadata": {
        "id": "vhClPJwd9wJq"
      }
    },
    {
      "cell_type": "markdown",
      "source": [
        "\n",
        "$$H_0:\\mu = 6 $$\n",
        "$$H_1:\\mu > 6 $$\n",
        "<br>"
      ],
      "metadata": {
        "id": "1vvZv1l9jCvm"
      }
    },
    {
      "cell_type": "code",
      "source": [
        "# Tu código aquí ...\n",
        "\n",
        "stats.ttest_1samp(a = df_lepac, popmean = 6, alternative = 'greater')"
      ],
      "metadata": {
        "id": "8Qjz8x332F9K",
        "colab": {
          "base_uri": "https://localhost:8080/"
        },
        "outputId": "f8f412db-3975-41ac-c92c-b44ed8d4859d"
      },
      "execution_count": null,
      "outputs": [
        {
          "output_type": "execute_result",
          "data": {
            "text/plain": [
              "TtestResult(statistic=array([3.41085215]), pvalue=array([0.00036546]), df=array([319]))"
            ]
          },
          "metadata": {},
          "execution_count": 49
        }
      ]
    },
    {
      "cell_type": "markdown",
      "source": [
        "Dado que nuestro valor P es menor que 5% podemos rechazar la hipotesis nula."
      ],
      "metadata": {
        "id": "TipkrJBRtlLb"
      }
    },
    {
      "cell_type": "markdown",
      "source": [
        "## <font color='green'>**Actividad 4**</font>\n",
        "### Validación de algunos test de hipótesis\n",
        "\n",
        "Desarrollar los siguientes test de hipótesis de 2 muestras para:\n",
        "\n",
        "1. Verificar si la satisfacción de Le Pac es mayor a la del producto Capel.\n",
        "\n",
        "2. Verificar si la satisfacción de Le Pac es mayor a la Competencia."
      ],
      "metadata": {
        "id": "goHBxtDV9-mx"
      }
    },
    {
      "cell_type": "markdown",
      "source": [
        "\n",
        "$$H_0:\\mu Lepac = \\mu Capel $$\n",
        "$$H_1:\\mu Lepac > \\mu Capel $$"
      ],
      "metadata": {
        "id": "lpN7KjbuueqZ"
      }
    },
    {
      "cell_type": "code",
      "source": [
        "# 1\n",
        "stats.ttest_ind(a = df_lepac, b = df_capel, alternative = 'greater')"
      ],
      "metadata": {
        "id": "Vxq8EGlB2FHP",
        "colab": {
          "base_uri": "https://localhost:8080/"
        },
        "outputId": "63d786ff-78b6-4182-dc07-583ef7351f4d"
      },
      "execution_count": null,
      "outputs": [
        {
          "output_type": "execute_result",
          "data": {
            "text/plain": [
              "TtestResult(statistic=array([19.17374926]), pvalue=array([2.28635368e-71]), df=array([1118.]))"
            ]
          },
          "metadata": {},
          "execution_count": 52
        }
      ]
    },
    {
      "cell_type": "markdown",
      "source": [
        "Debido a que tenemos un valor P muy pequeño, se rechaza H0"
      ],
      "metadata": {
        "id": "Xbs6ucVSvS4f"
      }
    },
    {
      "cell_type": "markdown",
      "source": [
        "\n",
        "\n",
        "$$H_0:\\mu Lepac = \\mu Competencia $$\n",
        "$$H_1:\\mu Lepac > \\mu Competencia $$"
      ],
      "metadata": {
        "id": "niUFDllUu-5L"
      }
    },
    {
      "cell_type": "code",
      "source": [
        "# 2\n",
        "stats.ttest_ind(a = df_lepac, b = df_competencia, alternative = 'greater')"
      ],
      "metadata": {
        "colab": {
          "base_uri": "https://localhost:8080/"
        },
        "id": "0NxYv7LDuACv",
        "outputId": "a7c6fc8a-7f2d-43da-d771-bd53b1acab35"
      },
      "execution_count": 43,
      "outputs": [
        {
          "output_type": "execute_result",
          "data": {
            "text/plain": [
              "TtestResult(statistic=array([1.55990983]), pvalue=array([0.05958399]), df=array([818.]))"
            ]
          },
          "metadata": {},
          "execution_count": 43
        }
      ]
    },
    {
      "cell_type": "markdown",
      "source": [
        "Debido a que P es mayor al 5% no podemos rechazar H0"
      ],
      "metadata": {
        "id": "KdXqxvzivZ1e"
      }
    }
  ]
}