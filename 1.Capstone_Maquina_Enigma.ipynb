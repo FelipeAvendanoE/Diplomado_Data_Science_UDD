{
  "nbformat": 4,
  "nbformat_minor": 0,
  "metadata": {
    "colab": {
      "provenance": [],
      "toc_visible": true
    },
    "kernelspec": {
      "display_name": "Python 3 (ipykernel)",
      "language": "python",
      "name": "python3"
    },
    "language_info": {
      "codemirror_mode": {
        "name": "ipython",
        "version": 3
      },
      "file_extension": ".py",
      "mimetype": "text/x-python",
      "name": "python",
      "nbconvert_exporter": "python",
      "pygments_lexer": "ipython3",
      "version": "3.8.11"
    }
  },
  "cells": [
    {
      "cell_type": "markdown",
      "metadata": {
        "id": "MQ6yZ8wBbSP6"
      },
      "source": [
        "# **Introducción a Python**\n",
        "# FP29. Capstone\n",
        "## Máquina Enigma\n",
        "¡Bienvenido Agente! Nos encontramos en pleno conflicto y hemos encontrado los planos de una  [Máquina Enigma](https://es.wikipedia.org/wiki/Enigma_(máquina)) enemiga. Necesitamos que configures una máquina que nos ayude a descifrar los mensajes que interceptamos.\n",
        "La máquina posee tres rotores y un reflector. Cada rotor es un disco circular plano con 26 contactos eléctricos en cada cara, uno por cada letra del alfabeto. Cada contacto de una cara está conectado o cableado a un contacto diferente de la cara contraria. Por ejemplo, en un rotor en particular, el contacto número 1 de una cara puede estar conectado con el contacto número 14 en la otra cara y el contacto número 5 de una cara con el número 22 de la otra.\n",
        "\n",
        "Como cada rotor está en contacto con el otro, lo anterior permite ir cambiando el indice de las letras de entrada, configurando así una criptografía muy compleja de resolver en aquellos tiempos. Estos rotores se conocen como.\n",
        "\n",
        "* Rotor derecho\n",
        "* Rotor medio\n",
        "* Rotor izquierdo\n",
        "* Reflector\n",
        "\n",
        "Mira este video para que entiendas mejor el concepto le la [Máquina Enigma](https://youtu.be/VnsTHAH5yAE)."
      ]
    },
    {
      "cell_type": "markdown",
      "metadata": {
        "id": "wgXcadS-bSP9"
      },
      "source": [
        "## Estructura de los rotores\n",
        "\n",
        "Los tres rotores (izquierdo, medio y derecho) tienen el alfabeto de 26 letras ordenadas en su sección de entrada y las mismas 26 letras desordenadas en su sección de salida.<br>\n",
        "El reflector, posee solo 13 letra, las cuales están repetidas 2 veces cada una y están repartidas aleatoriamente en el dispositivo. El punto en donde la señal del rotor izquierdo pasa al reflector, determina la letra de entrada; la salida será por la letra que conforma la pareja.\n",
        "\n",
        "Esta es la configuración que hemos encontrado:\n",
        "\n",
        "```python\n",
        "\"\"\"\n",
        "Reflector  Rot_izd   Rot_med   Rot_der  Teclado\n",
        "    A       A - E     A - A     A - B      A\n",
        "    B       B - K     B - J     B - D      B\n",
        "    C       C - M     C - D     C - F      C\n",
        "    D       D - F     D - K     D - H      D\n",
        "    E       E - L     E - S     E - J      E\n",
        "    F       F - G     F - I     F - L      F\n",
        "    G       G - D     G - R     G - C      G\n",
        "    D       H - Q     H - U     H - P      H\n",
        "    I       I - V     I - X     I - R      I\n",
        "    J       J - Z     J - B     J - T      J\n",
        "    K       K - N     K - L     K - X      K\n",
        "    G       L - T     L - H     L - V      L\n",
        "    M       M - O     M - W     M - Z      M\n",
        "    K       N - W     N - T     N - N      N\n",
        "    M       O - Y     O - M     O - Y      O\n",
        "    I       P - H     P - C     P - E      P\n",
        "    E       Q - X     Q - Q     Q - I      Q\n",
        "    B       R - U     R - G     R - W      R\n",
        "    F       S - S     S - Z     S - G      S\n",
        "    T       T - P     T - N     T - A      T\n",
        "    C       U - A     U - P     U - K      U\n",
        "    V       V - I     V - Y     V - M      V\n",
        "    V       W - B     W - F     W - U      W\n",
        "    J       X - R     X - V     X - S      X\n",
        "    A       Y - C     Y - O     Y - Q      Y\n",
        "    T       Z - J     Z - E     Z - O      Z\n",
        "\"\"\"\n",
        "```"
      ]
    },
    {
      "cell_type": "markdown",
      "metadata": {
        "id": "Jj8PqzOvbSP-"
      },
      "source": [
        "## Funcionamiento general\n",
        "Cada vez que un usuario presiona una tecla en el Teclado (columna derecha del diagrama anterior), ocurre lo siguiente:\n",
        "1. El Rotor_derecho avanza una posición hacia arriba, i.e., la combinación 'A - B' pasa al final de la lista y el primer lugar lo ocupa 'B - D'\n",
        "2. Se obtiene la posición en la lista (Teclado) de la tecla presionada por el operador .\n",
        "3. La posición obtenida en el punto 2, se utiliza para buscar la letra en la sección derecha del Rotor_derecho que está en la misma posición (frente a frente). En esa posición existe una letra a la cual llamaremos Letra_entrada.\n",
        "4. En el Rotor_derecho se busca la posición de la Letra_entrada en la sección de salida. Esta será la posición de salida del rotor.\n",
        "5. Se repiten los pasos anteriores, 3 y 4, en el Rotor_medio; esta vez la posición de entrada es equivalente a la posición de salida del punto 4.\n",
        "6. Se repiten los pasos anteriores, 3 y 4, en el Rotor_izquierdo.\n",
        "7. Con la posición de salida del Rotor_izquierdo se entra en el Reflector. En la posición de entrada en el Reflector hay una letra. Se buscará entonces la otra letra equivalente dentro del Reflector. Esto determinará la posición de salida.\n",
        "8. Con esta posición (la de salida del Reflector) se invierte el proceso, es decir, se busca la letra que está en contacto con el rotor anterior y se busca la posición de dicha letra en la salida del rotor. Este proceso se repite sucesivamente con los rotores izquierdo, medio y derecho.\n",
        "9. La posición de salida del Rotor_derecho marcará la posición en el Teclado, indicando la letra encriptada."
      ]
    },
    {
      "cell_type": "markdown",
      "metadata": {
        "id": "6YGzsSSmbSP-"
      },
      "source": [
        "## Algunos detalles adicionales\n",
        "Cada vez que procesamos una letra, primero rotamos una posición el Rotor_derecho (hacia arriba).\n",
        "Cuando la letra \"V\" de la componente ordenada (izquierda) del Rotor_derecho alcanza la posición inicial en la lista, en el siguiente movimiento, arrastrará al Rotor_medio, haciéndolo girar una posición. Esto se debe a que la máquina es un dispositivo electro-mecánco.\n",
        "Lo mismo ocurre cuando la letra \"Q\" de la componente ordenada (izquierda) del Rotor_medio llega al inicio, en este caso, el el siguiente movimiento, hará  avanzar una posición hacia arriba al Rotor_izquierdo."
      ]
    },
    {
      "cell_type": "markdown",
      "metadata": {
        "id": "CLQM5D63bSP_"
      },
      "source": [
        "## Más detalles\n",
        "Esto no termina aquí. Para hacer más difícil el trabajo de desencriptación, la máquina tiene la posibilidad de fijar la posición inicial de los tres rotores centrales (izquierdo, medio y derecho). Para esto se elige una clave de tres letras, las cuales marcan la posición inicial de la primera letra de la sección ordenada (izquierda) de cada rotor. Por ejemplo la clave <font color='red'>'MCK'</font> dejaría los rotores de la siguiente forma:\n",
        "\n",
        "```Python\n",
        "\"\"\"\n",
        "Reflector  Rot_izd   Rot_med   Rot_der  Teclado\n",
        "    A       M - O     C - D     K - X      A\n",
        "    B       N - W     D - K     L - V      B\n",
        "    C       O - Y     E - S     M - Z      C\n",
        "    D       P - H     F - I     N - N      D\n",
        "    E       Q - X     G - R     O - Y      E\n",
        "    F       R - U     H - U     P - E      F\n",
        "    G       S - S     I - X     Q - I      G\n",
        "    D       T - P     J - B     R - W      H\n",
        "    I       U - A     K - L     S - G      I\n",
        "    J       V - I     L - H     T - A      J\n",
        "    K       W - B     M - W     U - K      K\n",
        "    G       X - R     N - T     V - M      L\n",
        "    M       Y - C     O - M     W - U      M\n",
        "    K       Z - J     P - C     X - S      N\n",
        "    M       A - E     Q - Q     Y - Q      O\n",
        "    I       B - K     R - G     Z - O      P\n",
        "    E       C - M     S - Z     A - B      Q\n",
        "    B       D - F     T - N     B - D      R\n",
        "    F       E - L     U - P     C - F      S\n",
        "    T       F - G     V - Y     D - H      T\n",
        "    C       G - D     W - F     E - J      U\n",
        "    V       H - Q     X - V     F - L      V\n",
        "    V       I - V     Y - O     G - C      W\n",
        "    J       J - Z     Z - E     H - P      X\n",
        "    A       K - N     A - A     I - R      Y\n",
        "    T       L - T     B - J     J - T      Z\n",
        "\"\"\"\n",
        "```\n",
        "Fíjate que ni el Teclado ni el Reflector cambian, solo los rotores izquierdo, medio y derecho."
      ]
    },
    {
      "cell_type": "markdown",
      "metadata": {
        "id": "PeA4-UywbSQA"
      },
      "source": [
        "Aquí te dejamos algunos videos con la misma explicación:\n",
        "    \n",
        "[Criptografía - Máquina Enigma, funcionamiento detallado](https://youtu.be/XK_1gUo8YDE)\n"
      ]
    },
    {
      "cell_type": "markdown",
      "metadata": {
        "id": "otzqo7SWbSQA"
      },
      "source": [
        "## <font color='green'>Misión</font>\n",
        "\n",
        "Con los planos obtenidos, debes programar en Python tu propia Máquina Enigma. Cuando hayas terminado, se te dará un mensaje cifrado que deberás decodificar para aprobar el curso.\n",
        "\n",
        "Tu misión consiste en lo siguiente:<br>\n",
        "1. Programar la lógica de la máquina utilizando la información de los rotores conseguidos\n",
        "2. Ingresar una clave inicial (te será dada)\n",
        "3. Decodificar el mensaje correctamente\n",
        "\n",
        "Tips:\n",
        "\n",
        "1. Con la clave <font color='red'>'MCK'</font>, la frase **\"ENIGMA REVEALED\"** debiera encriptarse como **'QMJIDOMZWZJFJR\"** y viceversa.\n",
        "2. Recuerda usa stackoverflow e internet para buscar sintaxis y funciones.\n",
        "3. Divide el desafío en tantos problemas pequeños como puedas. A continuación te proponemos una serie de actividades en las cuales se resuelve el desafío; pero si quieres resolverlo de otra forma puedes hacerlo sin problemas."
      ]
    },
    {
      "cell_type": "markdown",
      "metadata": {
        "id": "bnPXoxdIbSQA"
      },
      "source": [
        "## <font color='green'>Actividad 1:</font> Cablea los rotores\n",
        "\n",
        "Crea los cableados de los rotores\n",
        "\n",
        "TIP:\n",
        "1. Crea lista con las secuencias\n",
        "2. Utiliza los strings proporcionados y conviértelos a listas con `split()`\n"
      ]
    },
    {
      "cell_type": "code",
      "metadata": {
        "id": "kZCA7cQgbSQB"
      },
      "source": [
        "# Componente ordenada de los rotores\n",
        "st = 'A B C D E F G H I J K L M N O P Q R S T U V W X Y Z'\n",
        "\n",
        "# Convierte el string 'st' en una lista\n",
        "# Tu código aquí ...\n",
        "\n",
        "ordenada = st.split()"
      ],
      "execution_count": null,
      "outputs": []
    },
    {
      "cell_type": "code",
      "metadata": {
        "id": "YxCSSmrnbSQB"
      },
      "source": [
        "# Creamos el reflector\n",
        "rf = 'A B C D E F G D I J K G M K M I E B F T C V V J A T'\n",
        "\n",
        "# Convierte el string 'rf' en una lista\n",
        "# Tu código aquí ...\n",
        "\n",
        "reflector = rf.split()"
      ],
      "execution_count": null,
      "outputs": []
    },
    {
      "cell_type": "code",
      "metadata": {
        "id": "MFMYWX7gbSQB"
      },
      "source": [
        "# Creamos el rotor derecho\n",
        "# Este string contiene el alfabeto de salida (desordenado)\n",
        "str_r_derecha = 'B D F H J L C P R T X V Z N Y E I W G A K M U S Q O'\n",
        "\n",
        "# Convierte el string 'rf' en una lista\n",
        "# Tu código aquí ...\n",
        "\n",
        "salida_rotor_derecho =  str_r_derecha.split()"
      ],
      "execution_count": null,
      "outputs": []
    },
    {
      "cell_type": "code",
      "metadata": {
        "id": "Jyo4qq26bSQB"
      },
      "source": [
        "# Creamos el rotor medio\n",
        "# Este string contiene el alfabeto de salida (desordenado)\n",
        "str_r_medio = 'A J D K S I R U X B L H W T M C Q G Z N P Y F V O E'\n",
        "\n",
        "# Convierte el string 'rf' en una lista\n",
        "# Tu código aquí ...\n",
        "\n",
        "salida_rotor_medio = str_r_medio.split()"
      ],
      "execution_count": null,
      "outputs": []
    },
    {
      "cell_type": "code",
      "metadata": {
        "id": "LLnPWUDGbSQC"
      },
      "source": [
        "# Creamos el rotor iquierdo\n",
        "# Este string contiene el alfabeto de salida (desordenado)\n",
        "str_r_izq = 'E K M F L G D Q V Z N T O W Y H X U S P A I B R C J '\n",
        "\n",
        "# Convierte el string 'rf' en una lista\n",
        "# Tu código aquí ...\n",
        "\n",
        "salida_rotor_izquierdo = str_r_izq.split()"
      ],
      "execution_count": null,
      "outputs": []
    },
    {
      "cell_type": "markdown",
      "metadata": {
        "id": "pm1SFyugbSQC"
      },
      "source": [
        "## <font color='green'>Actividad 2:</font> Arma los rotores\n",
        "\n",
        "Crea tres listas vacias para almacenar los rotores armados.\n",
        "Recuerda que cada rotor tiene una componente ordenada y otra desordenada. La ordenada va la izquierda y desordenada a la derecha.\n",
        "\n",
        "TIP:\n",
        "1. La estructura a obtener debiera ser una lista de listas. Por ejemplo, el rotor_izquierdo debería verse así:\n",
        "\n",
        "```python\n",
        "[['A', 'E'],\n",
        " ['B', 'K'],\n",
        " ['C', 'M'],\n",
        " ['D', 'F'],\n",
        " ['E', 'L'],\n",
        " ['F', 'G'],\n",
        " ['G', 'D'],\n",
        " ['H', 'Q'],\n",
        " ['I', 'V'],\n",
        " ['J', 'Z'],\n",
        " ['K', 'N'],\n",
        " ['L', 'T'],\n",
        " ['M', 'O'],\n",
        " ['N', 'W'],\n",
        " ['O', 'Y'],\n",
        " ['P', 'H'],\n",
        " ['Q', 'X'],\n",
        " ['R', 'U'],\n",
        " ['S', 'S'],\n",
        " ['T', 'P'],\n",
        " ['U', 'A'],\n",
        " ['V', 'I'],\n",
        " ['W', 'B'],\n",
        " ['X', 'R'],\n",
        " ['Y', 'C'],\n",
        " ['Z', 'J']]\n",
        "```"
      ]
    },
    {
      "cell_type": "code",
      "metadata": {
        "id": "TCmYvn44bSQC"
      },
      "source": [
        "# Crea tres listas vacias para almacenar los rotores armados\n",
        "# Recuerda que cada rotor tendrá una componente ordenada y otra desordenada\n",
        "# Tu código aquí ...\n",
        "\n",
        "rotor_izquierdo = []\n",
        "rotor_medio = []\n",
        "rotor_derecho = []"
      ],
      "execution_count": null,
      "outputs": []
    },
    {
      "cell_type": "markdown",
      "metadata": {
        "id": "WKNHsef0bSQD"
      },
      "source": [
        "Ya creadas las listas, ahora añádeles los pares de letras que conforman cada uno de los tres rotores.\n",
        "\n",
        "TIP:\n",
        "1. Utiliza un ciclo `for` para añadir los pares de elementos  (ordenado - desordenado) en cada rotor.\n",
        "2. Utiliza las listas que creamos anteriormente\n",
        "3. Utiliza la función `zip()` para unir las lista\n",
        "4. Utiliza la función `append()` e *indexing*\n",
        "\n",
        "```python\n",
        "for i in zip(lista_1, lista_2):\n",
        "    disco.append([i[0], i[1]])\n",
        "```"
      ]
    },
    {
      "cell_type": "code",
      "metadata": {
        "id": "vnm8kXKTbSQD"
      },
      "source": [
        "# Tu código aquí ...\n",
        "\n",
        "for i in zip(ordenada, salida_rotor_izquierdo):\n",
        "  rotor_izquierdo.append([i[0], i[1]])\n",
        "\n",
        "for i in zip(ordenada, salida_rotor_medio):\n",
        "  rotor_medio.append([i[0], i[1]])\n",
        "\n",
        "for i in zip(ordenada, salida_rotor_derecho):\n",
        "  rotor_derecho.append([i[0], i[1]])\n",
        "\n"
      ],
      "execution_count": null,
      "outputs": []
    },
    {
      "cell_type": "markdown",
      "metadata": {
        "id": "MYBkasx7bSQD"
      },
      "source": [
        "Imprime la configuración del Reflector, de los tres rotores y del Teclado. De la misma forma que en la instrucciones iniciales.\n",
        "\n",
        "Tip:\n",
        "1. Utiliza función `print( )` y `f-strings` para el correcto formateo\n",
        "2. Utiliza `zip()` nuevamente para agrupar todas las listas. Luego recórrelas con un ciclo `for` para imprimirlas."
      ]
    },
    {
      "cell_type": "code",
      "metadata": {
        "id": "weFP3uPSbSQD",
        "scrolled": true
      },
      "source": [
        "# Tu código aquí ...\n",
        "texto_impresion = list(zip(reflector,rotor_izquierdo,rotor_medio,rotor_derecho,ordenada))\n"
      ],
      "execution_count": null,
      "outputs": []
    },
    {
      "cell_type": "code",
      "source": [
        "print('Reflector  Rot_izd   Rot_med   Rot_der  Teclado')\n",
        "\n",
        "for i in texto_impresion:\n",
        "  print(f'{i[0]:^10} {i[1][0]:>2} - {i[1][1]:^2} {i[2][0]:>4} - {i[2][1]:^2} {i[3][0]:>4} - {i[3][1]:^2} {i[4]:^10}')\n",
        "\n"
      ],
      "metadata": {
        "colab": {
          "base_uri": "https://localhost:8080/"
        },
        "id": "lJeTn4Kzes17",
        "outputId": "fb5586ab-f463-46d5-ac54-3c5d4eeb93f3"
      },
      "execution_count": null,
      "outputs": [
        {
          "output_type": "stream",
          "name": "stdout",
          "text": [
            "Reflector  Rot_izd   Rot_med   Rot_der  Teclado\n",
            "    A       A - E     A - A     A - B      A     \n",
            "    B       B - K     B - J     B - D      B     \n",
            "    C       C - M     C - D     C - F      C     \n",
            "    D       D - F     D - K     D - H      D     \n",
            "    E       E - L     E - S     E - J      E     \n",
            "    F       F - G     F - I     F - L      F     \n",
            "    G       G - D     G - R     G - C      G     \n",
            "    D       H - Q     H - U     H - P      H     \n",
            "    I       I - V     I - X     I - R      I     \n",
            "    J       J - Z     J - B     J - T      J     \n",
            "    K       K - N     K - L     K - X      K     \n",
            "    G       L - T     L - H     L - V      L     \n",
            "    M       M - O     M - W     M - Z      M     \n",
            "    K       N - W     N - T     N - N      N     \n",
            "    M       O - Y     O - M     O - Y      O     \n",
            "    I       P - H     P - C     P - E      P     \n",
            "    E       Q - X     Q - Q     Q - I      Q     \n",
            "    B       R - U     R - G     R - W      R     \n",
            "    F       S - S     S - Z     S - G      S     \n",
            "    T       T - P     T - N     T - A      T     \n",
            "    C       U - A     U - P     U - K      U     \n",
            "    V       V - I     V - Y     V - M      V     \n",
            "    V       W - B     W - F     W - U      W     \n",
            "    J       X - R     X - V     X - S      X     \n",
            "    A       Y - C     Y - O     Y - Q      Y     \n",
            "    T       Z - J     Z - E     Z - O      Z     \n"
          ]
        }
      ]
    },
    {
      "cell_type": "markdown",
      "metadata": {
        "id": "o8a438ZgbSQF"
      },
      "source": [
        "## <font color='green'>Actividad 3:</font> Crea una función para girar los rotores\n",
        "\n",
        "Crea una función llamada **avanza_rotor**. La función debe girar los rotores hacia arriba. Créala de esta forma:\n",
        "\n",
        "```python\n",
        "def avanza_rotor(disco, paso):\n",
        "```\n",
        "Entrada:<br>\n",
        "**disco**: corresponde a la lista con la información del rotor a avanzar. Esta es una lista de listas.<br>\n",
        "**paso**. Esta variable indicará la cantidad de pasos que debe avanzar el rotor.\n",
        "\n",
        "Salida:<br>\n",
        "La función debe devolver el rotor (lista de listas) rotado **paso** pasos.\n",
        "\n",
        "TIP:\n",
        "1. Recuerda el uso de `pop()` y `append()` en las listas"
      ]
    },
    {
      "cell_type": "code",
      "metadata": {
        "id": "c4plnrlXbSQF"
      },
      "source": [
        "# Tu código aquí ...\n",
        "\n",
        "def avanza_rotor(disco, paso):\n",
        "  for i in range(paso):\n",
        "    disco.append(disco[0])\n",
        "    disco.pop(0)\n",
        "  return disco"
      ],
      "execution_count": null,
      "outputs": []
    },
    {
      "cell_type": "code",
      "source": [
        "avanza_rotor(rotor_izquierdo,1)"
      ],
      "metadata": {
        "colab": {
          "base_uri": "https://localhost:8080/"
        },
        "id": "T2B7zTfd0l3O",
        "outputId": "91f390d6-524e-45fa-f1d3-17394ba13408"
      },
      "execution_count": null,
      "outputs": [
        {
          "output_type": "execute_result",
          "data": {
            "text/plain": [
              "[['B', 'K'],\n",
              " ['C', 'M'],\n",
              " ['D', 'F'],\n",
              " ['E', 'L'],\n",
              " ['F', 'G'],\n",
              " ['G', 'D'],\n",
              " ['H', 'Q'],\n",
              " ['I', 'V'],\n",
              " ['J', 'Z'],\n",
              " ['K', 'N'],\n",
              " ['L', 'T'],\n",
              " ['M', 'O'],\n",
              " ['N', 'W'],\n",
              " ['O', 'Y'],\n",
              " ['P', 'H'],\n",
              " ['Q', 'X'],\n",
              " ['R', 'U'],\n",
              " ['S', 'S'],\n",
              " ['T', 'P'],\n",
              " ['U', 'A'],\n",
              " ['V', 'I'],\n",
              " ['W', 'B'],\n",
              " ['X', 'R'],\n",
              " ['Y', 'C'],\n",
              " ['Z', 'J'],\n",
              " ['A', 'E']]"
            ]
          },
          "metadata": {},
          "execution_count": 11
        }
      ]
    },
    {
      "cell_type": "markdown",
      "metadata": {
        "id": "HahqeNy-bSQF"
      },
      "source": [
        "## <font color='green'>Actividad 4:</font> Crea una función para posicionar los rotores según la clave inicial\n",
        "\n",
        "Crea una función que configure la posición inicial de los rotores. Llámala **conf_rotores** de esta forma:\n",
        "\n",
        "```python\n",
        "def conf_rotores(clave_inicial):\n",
        "```\n",
        "Entrada:<br>\n",
        "**clave_inicial**: corresponde a un string de tres letras.<br>\n",
        "\n",
        "A partir de la clave inicial se rotan los tres rotores (izquierdo, medio y derecho).\n",
        "\n",
        "Salida:<br>\n",
        "La función debe devolver los tres rotores posicionados según la clave ingresada.\n",
        "\n",
        "Tip:\n",
        "1. Necesitarás usar un ciclo `while` cuya condición de salida sea que la letra izquierda del primer par de letras de cada rotor coincida con la letra correspondiente de la clave ingresada.\n",
        "2. No es necesario que pases los rotores (lista) como argumentos ya que esta estructura tiene carácter *global* en Python.\n"
      ]
    },
    {
      "cell_type": "code",
      "metadata": {
        "id": "rLAXfHUfbSQF"
      },
      "source": [
        "# Tu código aquí ...\n",
        "\n",
        "def conf_rotores(clave_inicial):\n",
        "  while rotor_izquierdo[0][0] != clave_inicial[0]:\n",
        "    avanza_rotor(rotor_izquierdo,1)\n",
        "  while rotor_medio[0][0] != clave_inicial[1]:\n",
        "    avanza_rotor(rotor_medio,1)\n",
        "  while rotor_derecho[0][0] != clave_inicial[2]:\n",
        "    avanza_rotor(rotor_derecho,1)\n",
        "\n",
        "  return rotor_izquierdo, rotor_medio, rotor_derecho"
      ],
      "execution_count": null,
      "outputs": []
    },
    {
      "cell_type": "code",
      "metadata": {
        "id": "FtMNkmWgbSQG",
        "colab": {
          "base_uri": "https://localhost:8080/"
        },
        "outputId": "32a5ab9c-5aba-4214-9e5c-51daa9b80d19"
      },
      "source": [
        "# Pureba con la clave 'MCK'\n",
        "# Tu código aquí ...\n",
        "conf_rotores('MCK')"
      ],
      "execution_count": null,
      "outputs": [
        {
          "output_type": "execute_result",
          "data": {
            "text/plain": [
              "([['M', 'O'],\n",
              "  ['N', 'W'],\n",
              "  ['O', 'Y'],\n",
              "  ['P', 'H'],\n",
              "  ['Q', 'X'],\n",
              "  ['R', 'U'],\n",
              "  ['S', 'S'],\n",
              "  ['T', 'P'],\n",
              "  ['U', 'A'],\n",
              "  ['V', 'I'],\n",
              "  ['W', 'B'],\n",
              "  ['X', 'R'],\n",
              "  ['Y', 'C'],\n",
              "  ['Z', 'J'],\n",
              "  ['A', 'E'],\n",
              "  ['B', 'K'],\n",
              "  ['C', 'M'],\n",
              "  ['D', 'F'],\n",
              "  ['E', 'L'],\n",
              "  ['F', 'G'],\n",
              "  ['G', 'D'],\n",
              "  ['H', 'Q'],\n",
              "  ['I', 'V'],\n",
              "  ['J', 'Z'],\n",
              "  ['K', 'N'],\n",
              "  ['L', 'T']],\n",
              " [['C', 'D'],\n",
              "  ['D', 'K'],\n",
              "  ['E', 'S'],\n",
              "  ['F', 'I'],\n",
              "  ['G', 'R'],\n",
              "  ['H', 'U'],\n",
              "  ['I', 'X'],\n",
              "  ['J', 'B'],\n",
              "  ['K', 'L'],\n",
              "  ['L', 'H'],\n",
              "  ['M', 'W'],\n",
              "  ['N', 'T'],\n",
              "  ['O', 'M'],\n",
              "  ['P', 'C'],\n",
              "  ['Q', 'Q'],\n",
              "  ['R', 'G'],\n",
              "  ['S', 'Z'],\n",
              "  ['T', 'N'],\n",
              "  ['U', 'P'],\n",
              "  ['V', 'Y'],\n",
              "  ['W', 'F'],\n",
              "  ['X', 'V'],\n",
              "  ['Y', 'O'],\n",
              "  ['Z', 'E'],\n",
              "  ['A', 'A'],\n",
              "  ['B', 'J']],\n",
              " [['K', 'X'],\n",
              "  ['L', 'V'],\n",
              "  ['M', 'Z'],\n",
              "  ['N', 'N'],\n",
              "  ['O', 'Y'],\n",
              "  ['P', 'E'],\n",
              "  ['Q', 'I'],\n",
              "  ['R', 'W'],\n",
              "  ['S', 'G'],\n",
              "  ['T', 'A'],\n",
              "  ['U', 'K'],\n",
              "  ['V', 'M'],\n",
              "  ['W', 'U'],\n",
              "  ['X', 'S'],\n",
              "  ['Y', 'Q'],\n",
              "  ['Z', 'O'],\n",
              "  ['A', 'B'],\n",
              "  ['B', 'D'],\n",
              "  ['C', 'F'],\n",
              "  ['D', 'H'],\n",
              "  ['E', 'J'],\n",
              "  ['F', 'L'],\n",
              "  ['G', 'C'],\n",
              "  ['H', 'P'],\n",
              "  ['I', 'R'],\n",
              "  ['J', 'T']])"
            ]
          },
          "metadata": {},
          "execution_count": 15
        }
      ]
    },
    {
      "cell_type": "code",
      "metadata": {
        "id": "zQ0mDk6UbSQG"
      },
      "source": [
        "# Imprime la nueva configuración de rotores\n",
        "# Este código lo deberías haber hecho más arriba\n",
        "# Tu código aquí ...\n",
        "\n",
        "texto_impresion = list(zip(reflector,rotor_izquierdo,rotor_medio,rotor_derecho,ordenada))"
      ],
      "execution_count": null,
      "outputs": []
    },
    {
      "cell_type": "code",
      "source": [
        "print('Reflector  Rot_izd   Rot_med   Rot_der  Teclado')\n",
        "\n",
        "for i in texto_impresion:\n",
        "  print(f'{i[0]:^10} {i[1][0]:>2} - {i[1][1]:^2} {i[2][0]:>4} - {i[2][1]:^2} {i[3][0]:>4} - {i[3][1]:^2} {i[4]:^10}')\n",
        "\n"
      ],
      "metadata": {
        "colab": {
          "base_uri": "https://localhost:8080/"
        },
        "outputId": "ab2642e5-0f3d-4687-cfda-dae41974651a",
        "id": "WKnp54xUIfEq"
      },
      "execution_count": null,
      "outputs": [
        {
          "output_type": "stream",
          "name": "stdout",
          "text": [
            "Reflector  Rot_izd   Rot_med   Rot_der  Teclado\n",
            "    A       M - O     C - D     K - X      A     \n",
            "    B       N - W     D - K     L - V      B     \n",
            "    C       O - Y     E - S     M - Z      C     \n",
            "    D       P - H     F - I     N - N      D     \n",
            "    E       Q - X     G - R     O - Y      E     \n",
            "    F       R - U     H - U     P - E      F     \n",
            "    G       S - S     I - X     Q - I      G     \n",
            "    D       T - P     J - B     R - W      H     \n",
            "    I       U - A     K - L     S - G      I     \n",
            "    J       V - I     L - H     T - A      J     \n",
            "    K       W - B     M - W     U - K      K     \n",
            "    G       X - R     N - T     V - M      L     \n",
            "    M       Y - C     O - M     W - U      M     \n",
            "    K       Z - J     P - C     X - S      N     \n",
            "    M       A - E     Q - Q     Y - Q      O     \n",
            "    I       B - K     R - G     Z - O      P     \n",
            "    E       C - M     S - Z     A - B      Q     \n",
            "    B       D - F     T - N     B - D      R     \n",
            "    F       E - L     U - P     C - F      S     \n",
            "    T       F - G     V - Y     D - H      T     \n",
            "    C       G - D     W - F     E - J      U     \n",
            "    V       H - Q     X - V     F - L      V     \n",
            "    V       I - V     Y - O     G - C      W     \n",
            "    J       J - Z     Z - E     H - P      X     \n",
            "    A       K - N     A - A     I - R      Y     \n",
            "    T       L - T     B - J     J - T      Z     \n"
          ]
        }
      ]
    },
    {
      "cell_type": "markdown",
      "metadata": {
        "id": "Kik_gjh3bSQG"
      },
      "source": [
        "## <font color='green'>Actividad 5:</font> Crea funciones para pasar señales por los rotores\n",
        "\n",
        "Crea tres funciones llamadas **pasa_senal_ida**, **pasa_senal_vuelta** e **indice_reflextor** de esta forma:\n",
        "\n",
        "```python\n",
        "def pasa_senal_ida(rotor, indice):\n",
        "\n",
        "    \n",
        "def pasa_senal_vuelta(rotor, indice):\n",
        "    \n",
        "    \n",
        "def indice_reflextor(rotor, indice):\n",
        "    \n",
        "```\n",
        "Entrada:<br>\n",
        "**rotor**: corresponde a la lista con la información del rotor. Esta es una lista de listas.<br>\n",
        "**indice**. Es el punto de contacto en el rotor: En el caso de **pasa_senal_ida** será por la derecha y en el caso de **pasa_senal_vuelta** será por la izquierda\n",
        "\n",
        "Salida:<br>\n",
        "Las funciones devuelven el indice de salida del rotor. Esto simula por donde salía la corriente del rotor para tomar contacto con el siguiente rotor o el reflector."
      ]
    },
    {
      "cell_type": "code",
      "source": [
        "def busca(rotor, indice):\n",
        "    for i,l in enumerate(rotor):\n",
        "        if l[0] == rotor[indice][1]:\n",
        "            return i\n",
        "\n",
        "def buscador(rotor, indice):\n",
        "    for i,l in enumerate(rotor):\n",
        "        if l[1] == rotor[indice][0]:\n",
        "            return i"
      ],
      "metadata": {
        "id": "uQmoCTbxLxB3"
      },
      "execution_count": null,
      "outputs": []
    },
    {
      "cell_type": "code",
      "source": [
        "# Tu código aquí ...\n",
        "\n",
        "def pasa_senal_ida(rotor, indice):\n",
        "  salida_der = busca(rotor_derecho, indice)\n",
        "  salida_med = busca(rotor_medio, salida_der)\n",
        "  salida_izq = busca(rotor_izquierdo, salida_med)\n",
        "  return salida_izq\n",
        "\n",
        "\n",
        "def pasa_senal_vuelta(rotor, indice):\n",
        "  salida_izq = buscador(rotor_izquierdo, indice)\n",
        "  salida_med = buscador(rotor_medio, salida_izq)\n",
        "  salida_der = buscador(rotor_derecho, salida_med)\n",
        "  return salida_der\n",
        "\n",
        "\n",
        "def indice_reflextor(rotor, indice):\n",
        "  for i,j in  enumerate(reflector):\n",
        "    if j == reflector[indice] and i != indice:\n",
        "      return i"
      ],
      "metadata": {
        "id": "LLHBVBUAJ9sc"
      },
      "execution_count": null,
      "outputs": []
    },
    {
      "cell_type": "markdown",
      "metadata": {
        "id": "Y9eomU2dbSQG"
      },
      "source": [
        "## <font color='green'>Actividad 6:</font> Armando la ENIGMA\n",
        "\n",
        "Bien hecho hasta acá Hacker. Ahora debes armar la máquina.\n",
        "\n",
        "Crea una función **enigma** e integra todo lo anterios en ella.\n",
        "\n",
        "```python\n",
        "def enigma(mensaje, clave):\n",
        "```\n",
        "Entrada:<br>\n",
        "**mensaje**: corresponde a un strig que contiene el mensaje a codificar. Recuerda que no se usaban ni números ni caracteres especiales. Solo lo que el teclado de entrada pudiera escribir.<br>\n",
        "**clave**. Es la clave para posicionar los rotores al inicio.\n",
        "\n",
        "Salida:<br>\n",
        "Mensaje cifrado\n"
      ]
    },
    {
      "cell_type": "code",
      "source": [
        "# Cada vez que procesamos una letra, primero rotamos el disco\n",
        "# derecho (sus dos componentes); a partir de ahí se desarrolla el flujo\n",
        "# de conexiones.\n",
        "#\n",
        "# Cuando la letra \"V\" del rotor derecho alcance la posición inicial\n",
        "# (posición 0 de la lista), en la siguiente iteración, arrastrará\n",
        "# mecánicamente una posición al rotor del medio, haciéndolo moverse una\n",
        "# posición. Recordemos que la máquina era electro-mecánica.\n",
        "#\n",
        "# Lo mismo ocurre cuando la letra \"Q\" del rotor central llega al inicio.\n",
        "# La siguiente vez que avance, arrastrará mecánicamente una posición\n",
        "# al rotor izquierdo.\n",
        "\n",
        "# Tu código aquí ...\n",
        "\n",
        "def enigma(mensaje, clave):\n",
        "\n",
        "  conf_rotores(clave)\n",
        "\n",
        "  for i in mensaje:\n",
        "\n",
        "    avanza_rotor(rotor_derecho,1)\n",
        "    indice = ordenada.index(i)\n",
        "\n",
        "    salida_ida = pasa_senal_ida(rotor_derecho, indice)\n",
        "    reflejado = indice_reflextor(reflector, salida_ida)\n",
        "    salida_vuelta = pasa_senal_vuelta(rotor_izquierdo, reflejado)\n",
        "\n",
        "\n",
        "    if rotor_derecho[0][0] == 'V':\n",
        "      avanza_rotor(rotor_medio, 1)\n",
        "\n",
        "    if rotor_medio[0][0] == 'Q':\n",
        "      avanza_rotor(rotor_izquierdo, 1)\n",
        "\n",
        "    print(ordenada[salida_vuelta], end='')"
      ],
      "metadata": {
        "id": "GTHlDuO33JEo"
      },
      "execution_count": null,
      "outputs": []
    },
    {
      "cell_type": "code",
      "metadata": {
        "id": "9RC_TMcebSQH",
        "colab": {
          "base_uri": "https://localhost:8080/"
        },
        "outputId": "e73c7288-2e8b-42e2-f1e9-73b374a59172"
      },
      "source": [
        "# Probemos si funciona\n",
        "\n",
        "enigma('QMJIDOMZWZJFJR','MCK')"
      ],
      "execution_count": null,
      "outputs": [
        {
          "output_type": "stream",
          "name": "stdout",
          "text": [
            "ENIGMAREVEALED"
          ]
        }
      ]
    },
    {
      "cell_type": "code",
      "metadata": {
        "id": "862vo_YdPfAJ",
        "colab": {
          "base_uri": "https://localhost:8080/"
        },
        "outputId": "6d6fbc5a-8f78-418f-c9a9-58bbd2d361f2"
      },
      "source": [
        "enigma('QUIENNECESITAAYUDACONLATAREADELAMAQUINAENIGMA', 'MCK' )"
      ],
      "execution_count": null,
      "outputs": [
        {
          "output_type": "stream",
          "name": "stdout",
          "text": [
            "EJJPSZYNAIUAWJTALIXSCKVXLYMOLOSNSJJFQCDPIFMNL"
          ]
        }
      ]
    },
    {
      "cell_type": "code",
      "source": [
        "enigma('EJJPSZYNAIUAWJTALIXSCKVXLYMOLOSNSJJFQCDPIFMNL', 'MCK')"
      ],
      "metadata": {
        "id": "shN_42LE6wYu",
        "colab": {
          "base_uri": "https://localhost:8080/"
        },
        "outputId": "42f3fd4a-9834-4baf-d710-96dd4b99e22d"
      },
      "execution_count": null,
      "outputs": [
        {
          "output_type": "stream",
          "name": "stdout",
          "text": [
            "QUIENNECESITAAYUDACONLATAREADELAMAQUINAENIGMA"
          ]
        }
      ]
    },
    {
      "cell_type": "code",
      "source": [
        "enigma('DGAJUWLKZTHJSDMVRJBUMFYRGQMQNSPTSUYXGPBTVVNBH', 'JGC' )"
      ],
      "metadata": {
        "id": "wkBCeqyr63D3",
        "colab": {
          "base_uri": "https://localhost:8080/"
        },
        "outputId": "19911c33-ec40-4c89-f3ce-53ee3ea30e68"
      },
      "execution_count": null,
      "outputs": [
        {
          "output_type": "stream",
          "name": "stdout",
          "text": [
            "QUIENNECESITAAYUDACONLATAREADELAMAQUINAENIGMA"
          ]
        }
      ]
    }
  ]
}